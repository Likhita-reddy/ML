{
 "cells": [
  {
   "cell_type": "code",
   "execution_count": 1,
   "id": "793b9d1c",
   "metadata": {
    "_cell_guid": "b1076dfc-b9ad-4769-8c92-a6c4dae69d19",
    "_uuid": "8f2839f25d086af736a60e9eeb907d3b93b6e0e5",
    "execution": {
     "iopub.execute_input": "2023-05-18T06:17:32.677626Z",
     "iopub.status.busy": "2023-05-18T06:17:32.676631Z",
     "iopub.status.idle": "2023-05-18T06:17:32.698181Z",
     "shell.execute_reply": "2023-05-18T06:17:32.696360Z"
    },
    "papermill": {
     "duration": 0.036736,
     "end_time": "2023-05-18T06:17:32.701101",
     "exception": false,
     "start_time": "2023-05-18T06:17:32.664365",
     "status": "completed"
    },
    "tags": []
   },
   "outputs": [
    {
     "name": "stdout",
     "output_type": "stream",
     "text": [
      "/kaggle/input/restaurant-revenue-prediction/train.csv.zip\n",
      "/kaggle/input/restaurant-revenue-prediction/sampleSubmission.csv\n",
      "/kaggle/input/restaurant-revenue-prediction/test.csv.zip\n"
     ]
    }
   ],
   "source": [
    "# This Python 3 environment comes with many helpful analytics libraries installed\n",
    "# It is defined by the kaggle/python Docker image: https://github.com/kaggle/docker-python\n",
    "# For example, here's several helpful packages to load\n",
    "\n",
    "import numpy as np # linear algebra\n",
    "import pandas as pd # data processing, CSV file I/O (e.g. pd.read_csv)\n",
    "\n",
    "# Input data files are available in the read-only \"../input/\" directory\n",
    "# For example, running this (by clicking run or pressing Shift+Enter) will list all files under the input directory\n",
    "\n",
    "import os\n",
    "for dirname, _, filenames in os.walk('/kaggle/input'):\n",
    "    for filename in filenames:\n",
    "        print(os.path.join(dirname, filename))\n",
    "\n",
    "# You can write up to 20GB to the current directory (/kaggle/working/) that gets preserved as output when you create a version using \"Save & Run All\" \n",
    "# You can also write temporary files to /kaggle/temp/, but they won't be saved outside of the current session"
   ]
  },
  {
   "cell_type": "code",
   "execution_count": 2,
   "id": "07e5f97a",
   "metadata": {
    "execution": {
     "iopub.execute_input": "2023-05-18T06:17:32.721697Z",
     "iopub.status.busy": "2023-05-18T06:17:32.720898Z",
     "iopub.status.idle": "2023-05-18T06:17:33.798849Z",
     "shell.execute_reply": "2023-05-18T06:17:33.797609Z"
    },
    "papermill": {
     "duration": 1.091767,
     "end_time": "2023-05-18T06:17:33.802061",
     "exception": false,
     "start_time": "2023-05-18T06:17:32.710294",
     "status": "completed"
    },
    "tags": []
   },
   "outputs": [],
   "source": [
    "import pandas as pd\n",
    "train_data = pd.read_csv('/kaggle/input/restaurant-revenue-prediction/train.csv.zip')\n",
    "test_data = pd.read_csv('/kaggle/input/restaurant-revenue-prediction/test.csv.zip')\n",
    "test = pd.read_csv('/kaggle/input/restaurant-revenue-prediction/test.csv.zip')"
   ]
  },
  {
   "cell_type": "code",
   "execution_count": 3,
   "id": "520a8760",
   "metadata": {
    "execution": {
     "iopub.execute_input": "2023-05-18T06:17:33.822229Z",
     "iopub.status.busy": "2023-05-18T06:17:33.821752Z",
     "iopub.status.idle": "2023-05-18T06:17:33.865135Z",
     "shell.execute_reply": "2023-05-18T06:17:33.863934Z"
    },
    "papermill": {
     "duration": 0.057205,
     "end_time": "2023-05-18T06:17:33.868128",
     "exception": false,
     "start_time": "2023-05-18T06:17:33.810923",
     "status": "completed"
    },
    "tags": []
   },
   "outputs": [
    {
     "data": {
      "text/html": [
       "<div>\n",
       "<style scoped>\n",
       "    .dataframe tbody tr th:only-of-type {\n",
       "        vertical-align: middle;\n",
       "    }\n",
       "\n",
       "    .dataframe tbody tr th {\n",
       "        vertical-align: top;\n",
       "    }\n",
       "\n",
       "    .dataframe thead th {\n",
       "        text-align: right;\n",
       "    }\n",
       "</style>\n",
       "<table border=\"1\" class=\"dataframe\">\n",
       "  <thead>\n",
       "    <tr style=\"text-align: right;\">\n",
       "      <th></th>\n",
       "      <th>Id</th>\n",
       "      <th>Open Date</th>\n",
       "      <th>City</th>\n",
       "      <th>City Group</th>\n",
       "      <th>Type</th>\n",
       "      <th>P1</th>\n",
       "      <th>P2</th>\n",
       "      <th>P3</th>\n",
       "      <th>P4</th>\n",
       "      <th>P5</th>\n",
       "      <th>...</th>\n",
       "      <th>P29</th>\n",
       "      <th>P30</th>\n",
       "      <th>P31</th>\n",
       "      <th>P32</th>\n",
       "      <th>P33</th>\n",
       "      <th>P34</th>\n",
       "      <th>P35</th>\n",
       "      <th>P36</th>\n",
       "      <th>P37</th>\n",
       "      <th>revenue</th>\n",
       "    </tr>\n",
       "  </thead>\n",
       "  <tbody>\n",
       "    <tr>\n",
       "      <th>0</th>\n",
       "      <td>0</td>\n",
       "      <td>07/17/1999</td>\n",
       "      <td>İstanbul</td>\n",
       "      <td>Big Cities</td>\n",
       "      <td>IL</td>\n",
       "      <td>4</td>\n",
       "      <td>5.0</td>\n",
       "      <td>4.0</td>\n",
       "      <td>4.0</td>\n",
       "      <td>2</td>\n",
       "      <td>...</td>\n",
       "      <td>3.0</td>\n",
       "      <td>5</td>\n",
       "      <td>3</td>\n",
       "      <td>4</td>\n",
       "      <td>5</td>\n",
       "      <td>5</td>\n",
       "      <td>4</td>\n",
       "      <td>3</td>\n",
       "      <td>4</td>\n",
       "      <td>5653753.0</td>\n",
       "    </tr>\n",
       "  </tbody>\n",
       "</table>\n",
       "<p>1 rows × 43 columns</p>\n",
       "</div>"
      ],
      "text/plain": [
       "   Id   Open Date      City  City Group Type  P1   P2   P3   P4  P5  ...  P29  \\\n",
       "0   0  07/17/1999  İstanbul  Big Cities   IL   4  5.0  4.0  4.0   2  ...  3.0   \n",
       "\n",
       "   P30  P31  P32  P33  P34  P35  P36  P37    revenue  \n",
       "0    5    3    4    5    5    4    3    4  5653753.0  \n",
       "\n",
       "[1 rows x 43 columns]"
      ]
     },
     "execution_count": 3,
     "metadata": {},
     "output_type": "execute_result"
    }
   ],
   "source": [
    "train_data.head(1)"
   ]
  },
  {
   "cell_type": "code",
   "execution_count": 4,
   "id": "57f73922",
   "metadata": {
    "execution": {
     "iopub.execute_input": "2023-05-18T06:17:33.889666Z",
     "iopub.status.busy": "2023-05-18T06:17:33.889254Z",
     "iopub.status.idle": "2023-05-18T06:17:33.925168Z",
     "shell.execute_reply": "2023-05-18T06:17:33.923862Z"
    },
    "papermill": {
     "duration": 0.050533,
     "end_time": "2023-05-18T06:17:33.928012",
     "exception": false,
     "start_time": "2023-05-18T06:17:33.877479",
     "status": "completed"
    },
    "tags": []
   },
   "outputs": [
    {
     "data": {
      "text/plain": [
       "0      1\n",
       "1      1\n",
       "2      0\n",
       "3      0\n",
       "4      0\n",
       "      ..\n",
       "132    0\n",
       "133    1\n",
       "134    0\n",
       "135    1\n",
       "136    1\n",
       "Name: City_grp, Length: 137, dtype: int64"
      ]
     },
     "execution_count": 4,
     "metadata": {},
     "output_type": "execute_result"
    }
   ],
   "source": [
    "train_data['City_grp'] = (train_data['City Group'] =='Big Cities')-0\n",
    "test_data['City_grp'] = (test_data['City Group'] =='Big Cities')-0\n",
    "train_data['City_grp']"
   ]
  },
  {
   "cell_type": "code",
   "execution_count": 5,
   "id": "0d96bb57",
   "metadata": {
    "execution": {
     "iopub.execute_input": "2023-05-18T06:17:33.949988Z",
     "iopub.status.busy": "2023-05-18T06:17:33.948728Z",
     "iopub.status.idle": "2023-05-18T06:17:33.956649Z",
     "shell.execute_reply": "2023-05-18T06:17:33.955327Z"
    },
    "papermill": {
     "duration": 0.021485,
     "end_time": "2023-05-18T06:17:33.959100",
     "exception": false,
     "start_time": "2023-05-18T06:17:33.937615",
     "status": "completed"
    },
    "tags": []
   },
   "outputs": [
    {
     "data": {
      "text/plain": [
       "array(['IL', 'FC', 'DT'], dtype=object)"
      ]
     },
     "execution_count": 5,
     "metadata": {},
     "output_type": "execute_result"
    }
   ],
   "source": [
    "train_data['Type'].unique()"
   ]
  },
  {
   "cell_type": "code",
   "execution_count": 6,
   "id": "272dd768",
   "metadata": {
    "execution": {
     "iopub.execute_input": "2023-05-18T06:17:33.981734Z",
     "iopub.status.busy": "2023-05-18T06:17:33.980216Z",
     "iopub.status.idle": "2023-05-18T06:17:34.025347Z",
     "shell.execute_reply": "2023-05-18T06:17:34.023919Z"
    },
    "papermill": {
     "duration": 0.059869,
     "end_time": "2023-05-18T06:17:34.028457",
     "exception": false,
     "start_time": "2023-05-18T06:17:33.968588",
     "status": "completed"
    },
    "tags": []
   },
   "outputs": [],
   "source": [
    "train_data['Type'].replace(['IL','FC','DT'],[0,1,2],inplace=True)\n",
    "test_data['Type'].replace(['IL','FC','DT'],[0,1,2],inplace=True)\n"
   ]
  },
  {
   "cell_type": "code",
   "execution_count": 7,
   "id": "9257b3b2",
   "metadata": {
    "execution": {
     "iopub.execute_input": "2023-05-18T06:17:34.050432Z",
     "iopub.status.busy": "2023-05-18T06:17:34.049978Z",
     "iopub.status.idle": "2023-05-18T06:17:34.068860Z",
     "shell.execute_reply": "2023-05-18T06:17:34.067499Z"
    },
    "papermill": {
     "duration": 0.033357,
     "end_time": "2023-05-18T06:17:34.071571",
     "exception": false,
     "start_time": "2023-05-18T06:17:34.038214",
     "status": "completed"
    },
    "tags": []
   },
   "outputs": [],
   "source": [
    "l=len((train_data['City'].unique()))\n",
    "list =[]\n",
    "for i in range(l):\n",
    "    list.append(i)\n",
    "l= len((test_data['City'].unique()))\n",
    "list_test=[]\n",
    "for i in range(l):\n",
    "    list_test.append(i)"
   ]
  },
  {
   "cell_type": "code",
   "execution_count": 8,
   "id": "b42339fc",
   "metadata": {
    "execution": {
     "iopub.execute_input": "2023-05-18T06:17:34.092951Z",
     "iopub.status.busy": "2023-05-18T06:17:34.092450Z",
     "iopub.status.idle": "2023-05-18T06:17:34.487759Z",
     "shell.execute_reply": "2023-05-18T06:17:34.486598Z"
    },
    "papermill": {
     "duration": 0.410922,
     "end_time": "2023-05-18T06:17:34.491969",
     "exception": false,
     "start_time": "2023-05-18T06:17:34.081047",
     "status": "completed"
    },
    "tags": []
   },
   "outputs": [],
   "source": [
    "train_data['City'].replace(train_data['City'].unique(),list,inplace=True)\n",
    "test_data['City'].replace(test_data['City'].unique(),list_test,inplace=True)"
   ]
  },
  {
   "cell_type": "code",
   "execution_count": 9,
   "id": "1553813f",
   "metadata": {
    "execution": {
     "iopub.execute_input": "2023-05-18T06:17:34.517812Z",
     "iopub.status.busy": "2023-05-18T06:17:34.516619Z",
     "iopub.status.idle": "2023-05-18T06:17:34.548417Z",
     "shell.execute_reply": "2023-05-18T06:17:34.547059Z"
    },
    "papermill": {
     "duration": 0.046168,
     "end_time": "2023-05-18T06:17:34.551565",
     "exception": false,
     "start_time": "2023-05-18T06:17:34.505397",
     "status": "completed"
    },
    "tags": []
   },
   "outputs": [],
   "source": [
    "train_data.drop(['City Group'],axis=1,inplace=True)\n",
    "test_data.drop(['City Group'],axis=1,inplace=True)\n"
   ]
  },
  {
   "cell_type": "code",
   "execution_count": 10,
   "id": "7401f525",
   "metadata": {
    "execution": {
     "iopub.execute_input": "2023-05-18T06:17:34.572817Z",
     "iopub.status.busy": "2023-05-18T06:17:34.572370Z",
     "iopub.status.idle": "2023-05-18T06:17:34.589723Z",
     "shell.execute_reply": "2023-05-18T06:17:34.588266Z"
    },
    "papermill": {
     "duration": 0.0315,
     "end_time": "2023-05-18T06:17:34.592779",
     "exception": false,
     "start_time": "2023-05-18T06:17:34.561279",
     "status": "completed"
    },
    "tags": []
   },
   "outputs": [],
   "source": [
    "train_data.drop(['Id'],axis=1,inplace=True)\n",
    "test_data.drop(['Id'],axis=1,inplace=True)"
   ]
  },
  {
   "cell_type": "code",
   "execution_count": 11,
   "id": "d83d6b2c",
   "metadata": {
    "execution": {
     "iopub.execute_input": "2023-05-18T06:17:34.614700Z",
     "iopub.status.busy": "2023-05-18T06:17:34.613989Z",
     "iopub.status.idle": "2023-05-18T06:17:37.268530Z",
     "shell.execute_reply": "2023-05-18T06:17:37.267393Z"
    },
    "papermill": {
     "duration": 2.668892,
     "end_time": "2023-05-18T06:17:37.271531",
     "exception": false,
     "start_time": "2023-05-18T06:17:34.602639",
     "status": "completed"
    },
    "tags": []
   },
   "outputs": [],
   "source": [
    "from datetime import datetime\n",
    "data = []\n",
    "for i in range(train_data.shape[0]):\n",
    "    data.append((datetime.now()-datetime.strptime(train_data['Open Date'][i],'%m/%d/%Y')).days)\n",
    "train_data['Age'] = data \n",
    "data = []\n",
    "for i in range(test_data.shape[0]):\n",
    "    data.append((datetime.now()-datetime.strptime(test_data['Open Date'][i],'%m/%d/%Y')).days)\n",
    "test_data['Age'] = data"
   ]
  },
  {
   "cell_type": "code",
   "execution_count": 12,
   "id": "e29fccd4",
   "metadata": {
    "execution": {
     "iopub.execute_input": "2023-05-18T06:17:37.294093Z",
     "iopub.status.busy": "2023-05-18T06:17:37.293624Z",
     "iopub.status.idle": "2023-05-18T06:17:37.316677Z",
     "shell.execute_reply": "2023-05-18T06:17:37.315271Z"
    },
    "papermill": {
     "duration": 0.037245,
     "end_time": "2023-05-18T06:17:37.319855",
     "exception": false,
     "start_time": "2023-05-18T06:17:37.282610",
     "status": "completed"
    },
    "tags": []
   },
   "outputs": [],
   "source": [
    "train_data['Age'] = train_data['Age'] / 1000\n",
    "test_data['Age'] = test_data['Age'] / 1000\n",
    "train_data.head()\n",
    "train_data.drop(['Open Date'],axis=1,inplace=True)\n",
    "test_data.drop(['Open Date'],axis=1,inplace = True)\n"
   ]
  },
  {
   "cell_type": "code",
   "execution_count": 13,
   "id": "bd779611",
   "metadata": {
    "execution": {
     "iopub.execute_input": "2023-05-18T06:17:37.341965Z",
     "iopub.status.busy": "2023-05-18T06:17:37.340810Z",
     "iopub.status.idle": "2023-05-18T06:17:37.347573Z",
     "shell.execute_reply": "2023-05-18T06:17:37.346659Z"
    },
    "papermill": {
     "duration": 0.020805,
     "end_time": "2023-05-18T06:17:37.350241",
     "exception": false,
     "start_time": "2023-05-18T06:17:37.329436",
     "status": "completed"
    },
    "tags": []
   },
   "outputs": [],
   "source": [
    "X_train = train_data.drop(['revenue'],axis=1)\n",
    "target = train_data['revenue'] / 1e7\n"
   ]
  },
  {
   "cell_type": "code",
   "execution_count": 14,
   "id": "490d282a",
   "metadata": {
    "execution": {
     "iopub.execute_input": "2023-05-18T06:17:37.372133Z",
     "iopub.status.busy": "2023-05-18T06:17:37.371346Z",
     "iopub.status.idle": "2023-05-18T06:17:46.931017Z",
     "shell.execute_reply": "2023-05-18T06:17:46.929420Z"
    },
    "papermill": {
     "duration": 9.574174,
     "end_time": "2023-05-18T06:17:46.934250",
     "exception": false,
     "start_time": "2023-05-18T06:17:37.360076",
     "status": "completed"
    },
    "tags": []
   },
   "outputs": [],
   "source": [
    "import tensorflow as tf\n",
    "tf.random.set_seed(42)\n"
   ]
  },
  {
   "cell_type": "code",
   "execution_count": 15,
   "id": "afe1ec10",
   "metadata": {
    "execution": {
     "iopub.execute_input": "2023-05-18T06:17:46.955697Z",
     "iopub.status.busy": "2023-05-18T06:17:46.954855Z",
     "iopub.status.idle": "2023-05-18T06:17:47.225946Z",
     "shell.execute_reply": "2023-05-18T06:17:47.224575Z"
    },
    "papermill": {
     "duration": 0.285373,
     "end_time": "2023-05-18T06:17:47.229163",
     "exception": false,
     "start_time": "2023-05-18T06:17:46.943790",
     "status": "completed"
    },
    "tags": []
   },
   "outputs": [],
   "source": [
    "norm_layer = tf.keras.layers.Normalization(input_shape=X_train.shape[1:])\n",
    "model = tf.keras.Sequential([norm_layer,\n",
    "                           tf.keras.layers.Dense(400,activation='relu'),\n",
    "                           tf.keras.layers.Dense(300,activation='relu'),\n",
    "                           tf.keras.layers.Dense(200,activation='relu'),\n",
    "                           tf.keras.layers.Dense(100,activation='relu'),\n",
    "                           tf.keras.layers.Dense(1)])"
   ]
  },
  {
   "cell_type": "code",
   "execution_count": 16,
   "id": "372e9e63",
   "metadata": {
    "execution": {
     "iopub.execute_input": "2023-05-18T06:17:47.250659Z",
     "iopub.status.busy": "2023-05-18T06:17:47.249782Z",
     "iopub.status.idle": "2023-05-18T06:17:47.271197Z",
     "shell.execute_reply": "2023-05-18T06:17:47.270134Z"
    },
    "papermill": {
     "duration": 0.035417,
     "end_time": "2023-05-18T06:17:47.273997",
     "exception": false,
     "start_time": "2023-05-18T06:17:47.238580",
     "status": "completed"
    },
    "tags": []
   },
   "outputs": [],
   "source": [
    "model.compile(optimizer='Adam',loss='mse',metrics=['mse'])"
   ]
  },
  {
   "cell_type": "code",
   "execution_count": 17,
   "id": "189b040f",
   "metadata": {
    "execution": {
     "iopub.execute_input": "2023-05-18T06:17:47.295377Z",
     "iopub.status.busy": "2023-05-18T06:17:47.294823Z",
     "iopub.status.idle": "2023-05-18T06:17:47.682314Z",
     "shell.execute_reply": "2023-05-18T06:17:47.681047Z"
    },
    "papermill": {
     "duration": 0.402047,
     "end_time": "2023-05-18T06:17:47.685503",
     "exception": false,
     "start_time": "2023-05-18T06:17:47.283456",
     "status": "completed"
    },
    "tags": []
   },
   "outputs": [],
   "source": [
    "norm_layer.adapt(X_train)"
   ]
  },
  {
   "cell_type": "code",
   "execution_count": 18,
   "id": "dd2b9e07",
   "metadata": {
    "execution": {
     "iopub.execute_input": "2023-05-18T06:17:47.707462Z",
     "iopub.status.busy": "2023-05-18T06:17:47.706175Z",
     "iopub.status.idle": "2023-05-18T06:17:50.742548Z",
     "shell.execute_reply": "2023-05-18T06:17:50.741489Z"
    },
    "papermill": {
     "duration": 3.050229,
     "end_time": "2023-05-18T06:17:50.745329",
     "exception": false,
     "start_time": "2023-05-18T06:17:47.695100",
     "status": "completed"
    },
    "tags": []
   },
   "outputs": [
    {
     "name": "stdout",
     "output_type": "stream",
     "text": [
      "Epoch 1/50\n",
      "5/5 [==============================] - 1s 7ms/step - loss: 0.2129 - mse: 0.2129\n",
      "Epoch 2/50\n",
      "5/5 [==============================] - 0s 6ms/step - loss: 0.0736 - mse: 0.0736\n",
      "Epoch 3/50\n",
      "5/5 [==============================] - 0s 5ms/step - loss: 0.0494 - mse: 0.0494\n",
      "Epoch 4/50\n",
      "5/5 [==============================] - 0s 6ms/step - loss: 0.0391 - mse: 0.0391\n",
      "Epoch 5/50\n",
      "5/5 [==============================] - 0s 6ms/step - loss: 0.0298 - mse: 0.0298\n",
      "Epoch 6/50\n",
      "5/5 [==============================] - 0s 6ms/step - loss: 0.0295 - mse: 0.0295\n",
      "Epoch 7/50\n",
      "5/5 [==============================] - 0s 6ms/step - loss: 0.0256 - mse: 0.0256\n",
      "Epoch 8/50\n",
      "5/5 [==============================] - 0s 6ms/step - loss: 0.0215 - mse: 0.0215\n",
      "Epoch 9/50\n",
      "5/5 [==============================] - 0s 6ms/step - loss: 0.0202 - mse: 0.0202\n",
      "Epoch 10/50\n",
      "5/5 [==============================] - 0s 6ms/step - loss: 0.0185 - mse: 0.0185\n",
      "Epoch 11/50\n",
      "5/5 [==============================] - 0s 5ms/step - loss: 0.0132 - mse: 0.0132\n",
      "Epoch 12/50\n",
      "5/5 [==============================] - 0s 5ms/step - loss: 0.0119 - mse: 0.0119\n",
      "Epoch 13/50\n",
      "5/5 [==============================] - 0s 5ms/step - loss: 0.0121 - mse: 0.0121\n",
      "Epoch 14/50\n",
      "5/5 [==============================] - 0s 5ms/step - loss: 0.0104 - mse: 0.0104\n",
      "Epoch 15/50\n",
      "5/5 [==============================] - 0s 5ms/step - loss: 0.0092 - mse: 0.0092\n",
      "Epoch 16/50\n",
      "5/5 [==============================] - 0s 5ms/step - loss: 0.0091 - mse: 0.0091\n",
      "Epoch 17/50\n",
      "5/5 [==============================] - 0s 6ms/step - loss: 0.0077 - mse: 0.0077\n",
      "Epoch 18/50\n",
      "5/5 [==============================] - 0s 7ms/step - loss: 0.0068 - mse: 0.0068\n",
      "Epoch 19/50\n",
      "5/5 [==============================] - 0s 5ms/step - loss: 0.0084 - mse: 0.0084\n",
      "Epoch 20/50\n",
      "5/5 [==============================] - 0s 6ms/step - loss: 0.0097 - mse: 0.0097\n",
      "Epoch 21/50\n",
      "5/5 [==============================] - 0s 5ms/step - loss: 0.0083 - mse: 0.0083\n",
      "Epoch 22/50\n",
      "5/5 [==============================] - 0s 6ms/step - loss: 0.0064 - mse: 0.0064\n",
      "Epoch 23/50\n",
      "5/5 [==============================] - 0s 6ms/step - loss: 0.0050 - mse: 0.0050\n",
      "Epoch 24/50\n",
      "5/5 [==============================] - 0s 5ms/step - loss: 0.0123 - mse: 0.0123\n",
      "Epoch 25/50\n",
      "5/5 [==============================] - 0s 6ms/step - loss: 0.0066 - mse: 0.0066\n",
      "Epoch 26/50\n",
      "5/5 [==============================] - 0s 5ms/step - loss: 0.0060 - mse: 0.0060\n",
      "Epoch 27/50\n",
      "5/5 [==============================] - 0s 5ms/step - loss: 0.0053 - mse: 0.0053\n",
      "Epoch 28/50\n",
      "5/5 [==============================] - 0s 6ms/step - loss: 0.0053 - mse: 0.0053\n",
      "Epoch 29/50\n",
      "5/5 [==============================] - 0s 6ms/step - loss: 0.0057 - mse: 0.0057\n",
      "Epoch 30/50\n",
      "5/5 [==============================] - 0s 5ms/step - loss: 0.0047 - mse: 0.0047\n",
      "Epoch 31/50\n",
      "5/5 [==============================] - 0s 6ms/step - loss: 0.0037 - mse: 0.0037    \n",
      "Epoch 32/50\n",
      "5/5 [==============================] - 0s 6ms/step - loss: 0.0041 - mse: 0.0041\n",
      "Epoch 33/50\n",
      "5/5 [==============================] - 0s 5ms/step - loss: 0.0046 - mse: 0.0046\n",
      "Epoch 34/50\n",
      "5/5 [==============================] - 0s 5ms/step - loss: 0.0029 - mse: 0.0029\n",
      "Epoch 35/50\n",
      "5/5 [==============================] - 0s 6ms/step - loss: 0.0044 - mse: 0.0044\n",
      "Epoch 36/50\n",
      "5/5 [==============================] - 0s 5ms/step - loss: 0.0031 - mse: 0.0031\n",
      "Epoch 37/50\n",
      "5/5 [==============================] - 0s 5ms/step - loss: 0.0032 - mse: 0.0032\n",
      "Epoch 38/50\n",
      "5/5 [==============================] - 0s 6ms/step - loss: 0.0025 - mse: 0.0025    \n",
      "Epoch 39/50\n",
      "5/5 [==============================] - 0s 5ms/step - loss: 0.0020 - mse: 0.0020    \n",
      "Epoch 40/50\n",
      "5/5 [==============================] - 0s 5ms/step - loss: 0.0023 - mse: 0.0023\n",
      "Epoch 41/50\n",
      "5/5 [==============================] - 0s 6ms/step - loss: 0.0125 - mse: 0.0125\n",
      "Epoch 42/50\n",
      "5/5 [==============================] - 0s 6ms/step - loss: 0.0059 - mse: 0.0059\n",
      "Epoch 43/50\n",
      "5/5 [==============================] - 0s 5ms/step - loss: 0.0054 - mse: 0.0054\n",
      "Epoch 44/50\n",
      "5/5 [==============================] - 0s 5ms/step - loss: 0.0049 - mse: 0.0049\n",
      "Epoch 45/50\n",
      "5/5 [==============================] - 0s 6ms/step - loss: 0.0044 - mse: 0.0044\n",
      "Epoch 46/50\n",
      "5/5 [==============================] - 0s 6ms/step - loss: 0.0044 - mse: 0.0044\n",
      "Epoch 47/50\n",
      "5/5 [==============================] - 0s 6ms/step - loss: 0.0023 - mse: 0.0023\n",
      "Epoch 48/50\n",
      "5/5 [==============================] - 0s 6ms/step - loss: 0.0030 - mse: 0.0030\n",
      "Epoch 49/50\n",
      "5/5 [==============================] - 0s 5ms/step - loss: 0.0014 - mse: 0.0014    \n",
      "Epoch 50/50\n",
      "5/5 [==============================] - 0s 6ms/step - loss: 0.0012 - mse: 0.0012\n"
     ]
    }
   ],
   "source": [
    "history = model.fit(X_train,target,epochs=50)"
   ]
  },
  {
   "cell_type": "code",
   "execution_count": 19,
   "id": "94e8a58b",
   "metadata": {
    "execution": {
     "iopub.execute_input": "2023-05-18T06:17:50.794423Z",
     "iopub.status.busy": "2023-05-18T06:17:50.793536Z",
     "iopub.status.idle": "2023-05-18T06:17:50.818298Z",
     "shell.execute_reply": "2023-05-18T06:17:50.816921Z"
    },
    "papermill": {
     "duration": 0.052173,
     "end_time": "2023-05-18T06:17:50.821325",
     "exception": false,
     "start_time": "2023-05-18T06:17:50.769152",
     "status": "completed"
    },
    "tags": []
   },
   "outputs": [
    {
     "data": {
      "text/html": [
       "<div>\n",
       "<style scoped>\n",
       "    .dataframe tbody tr th:only-of-type {\n",
       "        vertical-align: middle;\n",
       "    }\n",
       "\n",
       "    .dataframe tbody tr th {\n",
       "        vertical-align: top;\n",
       "    }\n",
       "\n",
       "    .dataframe thead th {\n",
       "        text-align: right;\n",
       "    }\n",
       "</style>\n",
       "<table border=\"1\" class=\"dataframe\">\n",
       "  <thead>\n",
       "    <tr style=\"text-align: right;\">\n",
       "      <th></th>\n",
       "      <th>City</th>\n",
       "      <th>Type</th>\n",
       "      <th>P1</th>\n",
       "      <th>P2</th>\n",
       "      <th>P3</th>\n",
       "      <th>P4</th>\n",
       "      <th>P5</th>\n",
       "      <th>P6</th>\n",
       "      <th>P7</th>\n",
       "      <th>P8</th>\n",
       "      <th>...</th>\n",
       "      <th>P30</th>\n",
       "      <th>P31</th>\n",
       "      <th>P32</th>\n",
       "      <th>P33</th>\n",
       "      <th>P34</th>\n",
       "      <th>P35</th>\n",
       "      <th>P36</th>\n",
       "      <th>P37</th>\n",
       "      <th>City_grp</th>\n",
       "      <th>Age</th>\n",
       "    </tr>\n",
       "  </thead>\n",
       "  <tbody>\n",
       "    <tr>\n",
       "      <th>0</th>\n",
       "      <td>0</td>\n",
       "      <td>1</td>\n",
       "      <td>1</td>\n",
       "      <td>4.0</td>\n",
       "      <td>4.0</td>\n",
       "      <td>4.0</td>\n",
       "      <td>1</td>\n",
       "      <td>2</td>\n",
       "      <td>5</td>\n",
       "      <td>4</td>\n",
       "      <td>...</td>\n",
       "      <td>0</td>\n",
       "      <td>0</td>\n",
       "      <td>0</td>\n",
       "      <td>0</td>\n",
       "      <td>0</td>\n",
       "      <td>0</td>\n",
       "      <td>0</td>\n",
       "      <td>0</td>\n",
       "      <td>0</td>\n",
       "      <td>4.499</td>\n",
       "    </tr>\n",
       "  </tbody>\n",
       "</table>\n",
       "<p>1 rows × 41 columns</p>\n",
       "</div>"
      ],
      "text/plain": [
       "   City Type  P1   P2   P3   P4  P5  P6  P7  P8  ...  P30  P31  P32  P33  P34  \\\n",
       "0     0    1   1  4.0  4.0  4.0   1   2   5   4  ...    0    0    0    0    0   \n",
       "\n",
       "   P35  P36  P37  City_grp    Age  \n",
       "0    0    0    0         0  4.499  \n",
       "\n",
       "[1 rows x 41 columns]"
      ]
     },
     "execution_count": 19,
     "metadata": {},
     "output_type": "execute_result"
    }
   ],
   "source": [
    "test_data.head(1)"
   ]
  },
  {
   "cell_type": "code",
   "execution_count": 20,
   "id": "9fdf936e",
   "metadata": {
    "execution": {
     "iopub.execute_input": "2023-05-18T06:17:50.872519Z",
     "iopub.status.busy": "2023-05-18T06:17:50.871310Z",
     "iopub.status.idle": "2023-05-18T06:17:50.939201Z",
     "shell.execute_reply": "2023-05-18T06:17:50.938085Z"
    },
    "papermill": {
     "duration": 0.096188,
     "end_time": "2023-05-18T06:17:50.942221",
     "exception": false,
     "start_time": "2023-05-18T06:17:50.846033",
     "status": "completed"
    },
    "tags": []
   },
   "outputs": [],
   "source": [
    "test_data['Type'].replace(['MB'],[3],inplace=True)"
   ]
  },
  {
   "cell_type": "code",
   "execution_count": 21,
   "id": "8c25b8fb",
   "metadata": {
    "execution": {
     "iopub.execute_input": "2023-05-18T06:17:50.991726Z",
     "iopub.status.busy": "2023-05-18T06:17:50.990339Z",
     "iopub.status.idle": "2023-05-18T06:17:59.214546Z",
     "shell.execute_reply": "2023-05-18T06:17:59.213356Z"
    },
    "papermill": {
     "duration": 8.252068,
     "end_time": "2023-05-18T06:17:59.217937",
     "exception": false,
     "start_time": "2023-05-18T06:17:50.965869",
     "status": "completed"
    },
    "tags": []
   },
   "outputs": [
    {
     "name": "stdout",
     "output_type": "stream",
     "text": [
      "3125/3125 [==============================] - 7s 2ms/step\n"
     ]
    }
   ],
   "source": [
    "data = model.predict(test_data[:])*1e7\n",
    "type(test_data)\n",
    "data = pd.DataFrame(data)"
   ]
  },
  {
   "cell_type": "code",
   "execution_count": 22,
   "id": "7620336e",
   "metadata": {
    "execution": {
     "iopub.execute_input": "2023-05-18T06:17:59.289621Z",
     "iopub.status.busy": "2023-05-18T06:17:59.289192Z",
     "iopub.status.idle": "2023-05-18T06:17:59.632289Z",
     "shell.execute_reply": "2023-05-18T06:17:59.631063Z"
    },
    "papermill": {
     "duration": 0.38233,
     "end_time": "2023-05-18T06:17:59.635389",
     "exception": false,
     "start_time": "2023-05-18T06:17:59.253059",
     "status": "completed"
    },
    "tags": []
   },
   "outputs": [],
   "source": [
    "data.to_csv('Submission2.csv')"
   ]
  },
  {
   "cell_type": "code",
   "execution_count": null,
   "id": "b247243f",
   "metadata": {
    "papermill": {
     "duration": 0.034359,
     "end_time": "2023-05-18T06:17:59.705460",
     "exception": false,
     "start_time": "2023-05-18T06:17:59.671101",
     "status": "completed"
    },
    "tags": []
   },
   "outputs": [],
   "source": []
  },
  {
   "cell_type": "code",
   "execution_count": null,
   "id": "5fdd6d29",
   "metadata": {
    "papermill": {
     "duration": 0.034052,
     "end_time": "2023-05-18T06:17:59.774286",
     "exception": false,
     "start_time": "2023-05-18T06:17:59.740234",
     "status": "completed"
    },
    "tags": []
   },
   "outputs": [],
   "source": []
  },
  {
   "cell_type": "code",
   "execution_count": null,
   "id": "67071fa0",
   "metadata": {
    "papermill": {
     "duration": 0.034376,
     "end_time": "2023-05-18T06:17:59.843934",
     "exception": false,
     "start_time": "2023-05-18T06:17:59.809558",
     "status": "completed"
    },
    "tags": []
   },
   "outputs": [],
   "source": []
  }
 ],
 "metadata": {
  "kernelspec": {
   "display_name": "Python 3",
   "language": "python",
   "name": "python3"
  },
  "language_info": {
   "codemirror_mode": {
    "name": "ipython",
    "version": 3
   },
   "file_extension": ".py",
   "mimetype": "text/x-python",
   "name": "python",
   "nbconvert_exporter": "python",
   "pygments_lexer": "ipython3",
   "version": "3.7.12"
  },
  "papermill": {
   "default_parameters": {},
   "duration": 43.494316,
   "end_time": "2023-05-18T06:18:02.845879",
   "environment_variables": {},
   "exception": null,
   "input_path": "__notebook__.ipynb",
   "output_path": "__notebook__.ipynb",
   "parameters": {},
   "start_time": "2023-05-18T06:17:19.351563",
   "version": "2.4.0"
  }
 },
 "nbformat": 4,
 "nbformat_minor": 5
}
